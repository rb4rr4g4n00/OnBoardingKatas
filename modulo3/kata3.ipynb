{
 "cells": [
  {
   "cell_type": "markdown",
   "metadata": {},
   "source": [
    "# Kata 3 \n",
    "\n",
    "#### Ejercicio if, else y elif"
   ]
  },
  {
   "cell_type": "markdown",
   "metadata": {},
   "source": [
    "Eje 1. Escribiras la logica condicional que imprima una advertencia si un asteroide se acerca a la tierra demasiado rapido mayor que 25Km/s"
   ]
  },
  {
   "cell_type": "code",
   "execution_count": null,
   "metadata": {},
   "outputs": [],
   "source": [
    "# Un asteroide se acerca y viaja a una velocidad de 49 Km/s\n",
    "\n",
    "velocidadAsteroide = 25\n",
    "\n",
    "#Comprobamos la velocidad del asteroide\n",
    "if velocidadAsteroide > 25 :\n",
    "    advertencia = True\n",
    "else : \n",
    "    advertencia = False\n",
    "\n",
    "\n",
    "#Damos la respuesta a la tierra\n",
    "\n",
    "if advertencia :\n",
    "    print(\"Peligroooooooo la Tierra corre peligro de ser impactada por un asteroide!!!!!!\")\n",
    "else :\n",
    "    print(\"Relax todo bien, toma agüita :) \")"
   ]
  },
  {
   "cell_type": "markdown",
   "metadata": {},
   "source": [
    "Eje 2. Si un asteroide entra en la atmósfera de la Tierra a una velocidad mayor o igual a 20 Km/s, a veces produce un rayo de luz que se puede ver desde la Tierra\n",
    "\n",
    "Escribe la lógica condicional que usa declaraciones if, else, y elif para alertar a las personas de todo el mundo que deben buscar un asteroide en el cielo. ¡Hay uno que se dirige a la tierra ahora a una velocidad de 19 km/s!"
   ]
  },
  {
   "cell_type": "code",
   "execution_count": null,
   "metadata": {},
   "outputs": [],
   "source": [
    "velocidadAsteroide = 19\n",
    "\n",
    "\n",
    "if velocidadAsteroide >= 20 :\n",
    "    print(\" Mira el cielo, que luces tan extrañas\")\n",
    "elif velocidadAsteroide < 20 :\n",
    "    print(\" No hay nada que ver\")\n",
    "else :\n",
    "    print(\"Relax todo bien, toma agüita :) \")"
   ]
  },
  {
   "cell_type": "markdown",
   "metadata": {},
   "source": [
    "#### Ejercicio Uso de operadores and y or"
   ]
  },
  {
   "cell_type": "markdown",
   "metadata": {},
   "source": [
    "Ejer 3.  Información más matizada sobre cuándo los asteroides representan un peligro para la Tierra, y utilizarás esa información para mejorar nuestro sistema de advertencia. Aquí está la nueva información que necesitas saber:\n",
    "\n",
    "*Los asteroides de menos de 25 metros en su dimensión más grande probablemente se quemarán a medida que entren en la atmósfera de la Tierra.\n",
    "\n",
    "Si una pieza de un asteroide que es más grande que 25 metros pero más pequeña que 1000 metros golpeara la Tierra, causaría mucho daño.\n",
    "También discutimos en el ejercicio anterior que:\n",
    "\n",
    "La velocidad del asteroide varía en función de lo cerca que esté del sol, y cualquier velocidad superior a 25 kilómetros por segundo (km/s) merece una advertencia.\n",
    "Si un asteroide entra en la atmósfera de la Tierra a una velocidad mayor o igual a 20 km/s, a veces produce un rayo de luz que se puede ver desde la Tierra."
   ]
  },
  {
   "cell_type": "code",
   "execution_count": null,
   "metadata": {},
   "outputs": [],
   "source": [
    "velocidad = 20\n",
    "dimension = 25\n",
    "\n",
    "if dimension > 25 and velocidad > 25:\n",
    "    print (\"Un asteroide con velocidad peligrosa se encuentra orbitando la Tierra\")\n",
    "    print (\"Todo un caos, Tierra destruida\")\n",
    "elif velocidad >= 20 :\n",
    "    print (\"Mira, que luces tan bellas\")\n",
    "elif dimension < 25:\n",
    "    print (\"Tranquilo todo bien :)\")\n",
    "else :\n",
    "    print (\"Tranquilo todo bien :)\")"
   ]
  }
 ],
 "metadata": {
  "interpreter": {
   "hash": "1ec93426e083086c06f927691faaf3d8602159d49aca61c55a22c61d86c4f84c"
  },
  "kernelspec": {
   "display_name": "Python 3.10.2 64-bit",
   "language": "python",
   "name": "python3"
  },
  "language_info": {
   "codemirror_mode": {
    "name": "ipython",
    "version": 3
   },
   "file_extension": ".py",
   "mimetype": "text/x-python",
   "name": "python",
   "nbconvert_exporter": "python",
   "pygments_lexer": "ipython3",
   "version": "3.10.2"
  },
  "orig_nbformat": 4
 },
 "nbformat": 4,
 "nbformat_minor": 2
}
