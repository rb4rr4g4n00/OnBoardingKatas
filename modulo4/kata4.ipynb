{
 "cells": [
  {
   "cell_type": "markdown",
   "metadata": {},
   "source": [
    "# Kata 4\n",
    "Ejercicio 1 Transformar cadenas"
   ]
  },
  {
   "cell_type": "code",
   "execution_count": null,
   "metadata": {},
   "outputs": [],
   "source": [
    "# Texto con el que se trabaja\n",
    "text = \"\"\"Interesting facts about the Moon. The Moon is Earth's only satellite. There are several interesting facts about the Moon and how it affects life here on Earth. \n",
    "On average, the Moon moves 4cm away from the Earth every year. This yearly drift is not significant enough to cause immediate effects on Earth. The highest daylight temperature of the Moon is 127 C.\"\"\"\n",
    "\n",
    "#Separamos el texto en oraciones\n",
    "oraciones = text.split(\".\")\n",
    "print(oraciones)\n",
    "\n",
    "\n",
    "#Definir palabras claves.\n",
    "palabrasClaves = ['temperature', 'moves', 'average']\n",
    "\n",
    "# Cre un bucle para imprimir solo datos sobre la Luna que esten relacionados con las palabras claves\n",
    "\n",
    "for oracion in oraciones:\n",
    "    for palabra in palabrasClaves:\n",
    "        if palabra in oracion:\n",
    "            print(oracion)\n",
    "\n",
    "# Actualizar el ciclo para cambiar a C a Celsius\n",
    "\n",
    "for oracion in oraciones:\n",
    "    for palabra in palabrasClaves:\n",
    "        if palabra in oracion:\n",
    "            print(oracion.replace(' C', ' Celsius'))\n",
    "\n",
    "\n"
   ]
  },
  {
   "cell_type": "markdown",
   "metadata": {},
   "source": [
    "Ejercicio 2 Formatenado Cadenas"
   ]
  },
  {
   "cell_type": "code",
   "execution_count": 27,
   "metadata": {},
   "outputs": [
    {
     "name": "stdout",
     "output_type": "stream",
     "text": [
      " ****************************************************************************\n",
      "    Planeta: Earth \n",
      "    Gravedad en Moon: 1.6199999999999999 m/s2\n",
      "\n",
      " Gravedad del planeta Earth\n",
      "\n",
      " ****************************************************************************\n",
      "    Planeta: Earth \n",
      "    Gravedad en Moon: 1.6199999999999999 m/s2\n",
      "\n",
      "\n",
      " ****************************************************************************\n",
      "    Planeta: Earth \n",
      "    Gravedad en Moon: 1.6199999999999999 m/s2\n",
      "\n",
      " ****************************************************************************\n",
      "    Planeta: Marte \n",
      "    Gravedad en Ganímedes: 0.00143 m/s2\n",
      "\n",
      " ****************************************************************************\n",
      "    Planeta: Marte \n",
      "    Gravedad en Ganímedes: 0.00143 m/s2\n",
      "\n"
     ]
    }
   ],
   "source": [
    "# Dtos con los que se trabaja \n",
    "name = \"Moon\"\n",
    "gravity = 0.00162 # in kms\n",
    "planet = \"Earth\"\n",
    "\n",
    "# Creamos un titulo\n",
    "titulo = f'Gravedad del planeta {planet}\\n'\n",
    "\n",
    "#Creamos la plantilla \n",
    "plantilla = f\"\"\" ****************************************************************************\n",
    "    Planeta: {planet} \n",
    "    Gravedad en {name}: {gravity * 1000} m/s2\n",
    "\"\"\"\n",
    "print(plantilla)\n",
    "\n",
    "# Unión de ambas cadenas\n",
    "unionPlantilla = f\"\"\" {titulo}\n",
    "{plantilla}\n",
    "\"\"\"\n",
    "\n",
    "print(unionPlantilla)\n",
    "\n",
    "# Datos nuevos\n",
    "planet = \"Marte\"\n",
    "gravity = 0.00143 # in kms\n",
    "name = \"Ganímedes\"\n",
    "\n",
    "# Comprueba la plantilla\n",
    "print(plantilla)\n",
    "\n",
    "\n",
    "# Nueva plantilla\n",
    "nuevaPlantilla = f\"\"\" ****************************************************************************\n",
    "    Planeta: {planet} \n",
    "    Gravedad en {name}: {gravity} m/s2\n",
    "\"\"\"\n",
    "\n",
    "# Comprueba la plantilla\n",
    "print(nuevaPlantilla.format(planet=planet, name=name, gravedad=gravity))\n",
    "\n",
    "# Comprueba la plantilla\n",
    "print(nuevaPlantilla.format(planet=planet, name=name, gravedad=gravity*1000))\n",
    "\n",
    "\n"
   ]
  }
 ],
 "metadata": {
  "interpreter": {
   "hash": "1ec93426e083086c06f927691faaf3d8602159d49aca61c55a22c61d86c4f84c"
  },
  "kernelspec": {
   "display_name": "Python 3.10.2 64-bit",
   "language": "python",
   "name": "python3"
  },
  "language_info": {
   "codemirror_mode": {
    "name": "ipython",
    "version": 3
   },
   "file_extension": ".py",
   "mimetype": "text/x-python",
   "name": "python",
   "nbconvert_exporter": "python",
   "pygments_lexer": "ipython3",
   "version": "3.10.2"
  },
  "orig_nbformat": 4
 },
 "nbformat": 4,
 "nbformat_minor": 2
}
