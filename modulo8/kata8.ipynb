{
 "cells": [
  {
   "cell_type": "markdown",
   "metadata": {},
   "source": [
    "# Kata 8\n",
    "Ejercicio 1. Creación de diccionarios de Python"
   ]
  },
  {
   "cell_type": "code",
   "execution_count": 2,
   "metadata": {},
   "outputs": [
    {
     "name": "stdout",
     "output_type": "stream",
     "text": [
      "El planeta es Marte y tiene 2 lunas\n",
      "El planeta es Marte y tiene 2 lunas y su circunferencia polar es 6752\n"
     ]
    }
   ],
   "source": [
    "# Crear un diccionario llamado planet con los datos propuestos\n",
    "planeta = {\n",
    "    'name' : 'Marte',\n",
    "    'moons' : 2\n",
    "}\n",
    "\n",
    "# Muestra el nombre del planeta y el numero de lunas que tiene\n",
    "\n",
    "print(f\"El planeta es {planeta.get('name')} y tiene {planeta.get('moons')} lunas\")\n",
    "\n",
    "# Agrega la clave circunferencia con los datos proporcionaos previamente\n",
    "planeta['circunferencia'] = {\n",
    "    'polar' : 6752,\n",
    "    'equatorial' : 6792\n",
    "}\n",
    "\n",
    "# Imprime el nombre del planeta con su circunferencia polar\n",
    "print(f\"El planeta es {planeta.get('name')} y tiene {planeta.get('moons')} lunas y su circunferencia polar es {planeta.get('circunferencia').get('polar')}\")\n"
   ]
  },
  {
   "cell_type": "markdown",
   "metadata": {},
   "source": [
    "Ejercicio 2. Programación dinámica con diccionarios\n"
   ]
  },
  {
   "cell_type": "code",
   "execution_count": 6,
   "metadata": {},
   "outputs": [
    {
     "name": "stdout",
     "output_type": "stream",
     "text": [
      "dict_values([0, 0, 1, 2, 79, 82, 27, 14, 5, 2, 1, 1])\n",
      "dict_keys(['mercury', 'venus', 'earth', 'mars', 'jupiter', 'saturn', 'uranus', 'neptune', 'pluto', 'haumea', 'makemake', 'eris'])\n",
      "El total de lunas en el sistema es 214\n",
      "El promedio de lunas es 17.833333333333332\n"
     ]
    }
   ],
   "source": [
    "# Planetas y lunas \n",
    "\n",
    "planet_moons = {\n",
    "    'mercury': 0,\n",
    "    'venus': 0,\n",
    "    'earth': 1,\n",
    "    'mars': 2,\n",
    "    'jupiter': 79,\n",
    "    'saturn': 82,\n",
    "    'uranus': 27,\n",
    "    'neptune': 14,\n",
    "    'pluto': 5,\n",
    "    'haumea': 2,\n",
    "    'makemake': 1,\n",
    "    'eris': 1\n",
    "}\n",
    "\n",
    "# Obtener el numero de lunas y planetas\n",
    "\n",
    "lunas = planet_moons.values()\n",
    "print(lunas)\n",
    "\n",
    "planetas = planet_moons.keys()\n",
    "print(planetas)\n",
    "\n",
    "# Contar el número de lunas \n",
    "totalLunas = 0\n",
    "for l in lunas:\n",
    "    totalLunas = totalLunas + l\n",
    "\n",
    "print(f\"El total de lunas en el sistema es {totalLunas}\")\n",
    "\n",
    "# Promedio de lunar por planeta\n",
    "print(f\"El promedio de lunas es {totalLunas/len(planetas)}\")\n",
    "\n"
   ]
  }
 ],
 "metadata": {
  "interpreter": {
   "hash": "1ec93426e083086c06f927691faaf3d8602159d49aca61c55a22c61d86c4f84c"
  },
  "kernelspec": {
   "display_name": "Python 3.10.2 64-bit",
   "language": "python",
   "name": "python3"
  },
  "language_info": {
   "codemirror_mode": {
    "name": "ipython",
    "version": 3
   },
   "file_extension": ".py",
   "mimetype": "text/x-python",
   "name": "python",
   "nbconvert_exporter": "python",
   "pygments_lexer": "ipython3",
   "version": "3.10.2"
  },
  "orig_nbformat": 4
 },
 "nbformat": 4,
 "nbformat_minor": 2
}
