{
 "cells": [
  {
   "cell_type": "markdown",
   "metadata": {},
   "source": [
    "# Kata 7\n",
    "\n",
    "Ejercicio 1. Creación de un Bucle \"while\""
   ]
  },
  {
   "cell_type": "code",
   "execution_count": 2,
   "metadata": {},
   "outputs": [
    {
     "name": "stdout",
     "output_type": "stream",
     "text": [
      "['Tierra', 'Marte', 'Venus']\n"
     ]
    }
   ],
   "source": [
    "#Declarar dos variables\n",
    "planets = []\n",
    "newPlanet = ''\n",
    "\n",
    "\n",
    "while newPlanet != 'done':\n",
    "    newPlanet = input(\"Ingresa un nombre de planeta, done para salir\")\n",
    "    planets.append(newPlanet)\n",
    "\n",
    "\n",
    "print(planets[:-1])"
   ]
  },
  {
   "cell_type": "markdown",
   "metadata": {},
   "source": [
    "Ejercicio 2. Creacion de un ciclo \"for\""
   ]
  },
  {
   "cell_type": "code",
   "execution_count": 3,
   "metadata": {},
   "outputs": [
    {
     "name": "stdout",
     "output_type": "stream",
     "text": [
      "Tierra\n",
      "Marte\n",
      "Venus\n",
      "done\n"
     ]
    }
   ],
   "source": [
    "# Generar un ciclo for que imprima los planetas\n",
    "\n",
    "for p in planets:\n",
    "    print(p)"
   ]
  }
 ],
 "metadata": {
  "interpreter": {
   "hash": "1ec93426e083086c06f927691faaf3d8602159d49aca61c55a22c61d86c4f84c"
  },
  "kernelspec": {
   "display_name": "Python 3.10.2 64-bit",
   "language": "python",
   "name": "python3"
  },
  "language_info": {
   "codemirror_mode": {
    "name": "ipython",
    "version": 3
   },
   "file_extension": ".py",
   "mimetype": "text/x-python",
   "name": "python",
   "nbconvert_exporter": "python",
   "pygments_lexer": "ipython3",
   "version": "3.10.2"
  },
  "orig_nbformat": 4
 },
 "nbformat": 4,
 "nbformat_minor": 2
}
