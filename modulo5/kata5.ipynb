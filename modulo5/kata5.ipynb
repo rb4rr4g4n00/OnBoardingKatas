{
 "cells": [
  {
   "cell_type": "markdown",
   "metadata": {},
   "source": [
    "# Kata 5\n",
    "\n",
    "Ejercicio 1 Utilizar operadores aritméticos\n",
    "\n",
    "Operadores aritmeticos en Python "
   ]
  },
  {
   "cell_type": "code",
   "execution_count": null,
   "metadata": {},
   "outputs": [],
   "source": [
    "# Distancia entre planetas\n",
    "\n",
    "planeta1 = 149597.870 #Tierra\n",
    "planeta2 = 778547.200 #Júpiter\n",
    "\n",
    "distanciaKM = planeta2 - planeta1\n",
    "print(distanciaKM)\n",
    "\n",
    "distanciaM = ( planeta2 - planeta1 ) * 0.621\n",
    "print(distanciaM)\n",
    "\n",
    "\n"
   ]
  },
  {
   "cell_type": "markdown",
   "metadata": {},
   "source": [
    "Ejercicio  2 convierte cadenas en números y usa valores absolutos\n",
    "\n",
    "Crea una aplicación para trabajar con números y entrada de usuario"
   ]
  },
  {
   "cell_type": "code",
   "execution_count": 3,
   "metadata": {},
   "outputs": [
    {
     "name": "stdout",
     "output_type": "stream",
     "text": [
      "Distancia de los planetas 628949.33 en Kilometros\n",
      "Distancia de los planetas 390577.53393 en Millas\n"
     ]
    }
   ],
   "source": [
    "#Almacenar las entradas\n",
    "distanciaPlaneta1 = input(\"¿Cual es la primer distancia respecto al Sol en KM?\")\n",
    "distanciaPlaneta2 = input(\"¿Cual es la segunda distancia respecto al Sol en KM?\")\n",
    "\n",
    "# Convertir las distancias en valores enteros\n",
    "valorPlaneta1 = int(distanciaPlaneta1)\n",
    "valorPlaneta2 = int(distanciaPlaneta2)\n",
    "\n",
    "# Realizar calculo de distancia\n",
    "distanciaKM = planeta1 - planeta2\n",
    "print(f\"Distancia de los planetas {abs(distanciaKM)} en Kilometros\")\n",
    "\n",
    "#Realizar conversion Millas\n",
    "distanciaM = planeta1 - planeta2\n",
    "print(f\"Distancia de los planetas {abs(distanciaKM) * 0.621} en Millas\")\n",
    "\n"
   ]
  }
 ],
 "metadata": {
  "interpreter": {
   "hash": "1ec93426e083086c06f927691faaf3d8602159d49aca61c55a22c61d86c4f84c"
  },
  "kernelspec": {
   "display_name": "Python 3.10.2 64-bit",
   "language": "python",
   "name": "python3"
  },
  "language_info": {
   "codemirror_mode": {
    "name": "ipython",
    "version": 3
   },
   "file_extension": ".py",
   "mimetype": "text/x-python",
   "name": "python",
   "nbconvert_exporter": "python",
   "pygments_lexer": "ipython3",
   "version": "3.10.2"
  },
  "orig_nbformat": 4
 },
 "nbformat": 4,
 "nbformat_minor": 2
}
